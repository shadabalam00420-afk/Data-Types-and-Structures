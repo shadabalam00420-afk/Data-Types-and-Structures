{
  "nbformat": 4,
  "nbformat_minor": 0,
  "metadata": {
    "colab": {
      "provenance": []
    },
    "kernelspec": {
      "name": "python3",
      "display_name": "Python 3"
    },
    "language_info": {
      "name": "python"
    }
  },
  "cells": [
    {
      "cell_type": "markdown",
      "source": [],
      "metadata": {
        "id": "rhOWgnggMXdt"
      }
    },
    {
      "cell_type": "markdown",
      "source": [
        "# Data Type and Structures"
      ],
      "metadata": {
        "id": "RjxhRGrjNPNV"
      }
    },
    {
      "cell_type": "markdown",
      "source": [
        "1.  What are data structures, and why are they important?\n",
        "  - **Data structures** are ways to organize and store data for efficient access and modification. They're important because they help improve performance, manage data logically, and enable efficient problem-solving in programming.\n",
        "\n",
        "2.  Explain the difference between mutable and immutable data types with examples.\n",
        "    - **Mutable** data types can be changed after creation (e.g., `list`, `dict`), while **immutable** data types cannot be changed (e.g., `str`, `int`, `tuple`).\n",
        "\n",
        "3.  What are the main differences between lists and tuples in Python?\n",
        "    - **Lists** are mutable, use `[]`, and have more methods.\n",
        "  **Tuples** are immutable, use `()`, and are faster and used for fixed data.\n",
        "\n",
        "4. Describe how dictionaries store data.\n",
        "   - **Dictionaries** store data as **key-value pairs** in a structure called a **hash table**.\n",
        "\n",
        "    * Each **key** is unique and is used to access its **value**.\n",
        "    * Keys are hashed to find their location in memory quickly.\n",
        "\n",
        "     **Example**:\n",
        "\n",
        "     my_dict = {\"name\": \"Alice\", \"age\": 25}\n",
        "\n",
        "    * `\"name\"` and `\"age\"` are keys.\n",
        "    * `\"Alice\"` and `25` are their values.\n",
        "\n",
        "     Dictionaries allow **fast lookup**, insertion, and deletion (average case: O(1)).\n",
        "\n",
        "5.  Why might you use a set instead of a list in Python?\n",
        "\n",
        "  - You might use a set instead of a list when:\n",
        "\n",
        "  - You need to store unique items (sets automatically remove duplicates).\n",
        "\n",
        "  - You want faster membership testing (in is faster in sets than in lists).\n",
        "\n",
        "  - You plan to perform set operations like union, intersection, or difference.\n",
        "\n",
        "6. What is a string in Python, and how is it different from a list?\n",
        "   \n",
        "   - A **string** is an **immutable** sequence of **characters**.\n",
        "  \n",
        "   - A **list** is a **mutable** sequence that can hold **any data type**.\n",
        "\n",
        "7. How do tuples ensure data integrity in Python?\n",
        "   - Tuples ensure data integrity in Python by being **immutable**, meaning once created, their contents **cannot be changed**. This prevents accidental modification of the data, keeping it safe and consistent throughout the program.\n",
        "\n",
        "8. What is a hash table, and how does it relate to dictionaries in Python?\n",
        "   - A **hash table** is a data structure that stores **key-value pairs** and uses a **hash function** to quickly find the location of a key in memory.\n",
        "\n",
        "  - In Python, **dictionaries** are implemented using hash tables, which allows for **fast lookup, insertion, and deletion** of values by their keys.\n",
        "\n",
        "9. Can lists contain different data types in Python?\n",
        "   - Yes, lists in Python can contain different data types in the same list. For example:\n",
        "  - my_list = [1, \"hello\", 3.14, True]\n",
        "\n",
        "10.  Explain why strings are immutable in Python.\n",
        "     - Strings are immutable in Python to:\n",
        "\n",
        "     * **Ensure data integrity** (prevent accidental changes).\n",
        "     * **Improve performance** (immutable objects can be safely shared and cached).\n",
        "     * **Simplify memory management** and enable optimization techniques like string interning.\n",
        "\n",
        "  Because strings don’t change, Python can handle them more efficiently.\n",
        "\n",
        "11. What advantages do dictionaries offer over lists for certain tasks?\n",
        "    - Dictionaries offer these advantages over lists for certain tasks:\n",
        "\n",
        "    * **Fast lookups** by key (average O(1) time), while lists require searching (O(n)).\n",
        "    * **Key-value pairing**, making data more meaningful and easier to access by identifiers.\n",
        "    * **No order dependency** (in older Python versions) — great when order doesn’t matter.\n",
        "    * Ability to use **non-integer keys** (like strings), unlike lists which use only integer indexes.\n",
        "     **Use dictionaries when you need quick access via unique keys!**\n",
        "\n",
        "12. Describe a scenario where using a tuple would be preferable over a list.\n",
        "    - Using a **tuple** is preferable when you want to store **fixed, unchangeable data** that shouldn’t be modified, such as:\n",
        "\n",
        "    * Coordinates like `(x, y)` points.\n",
        "    * Days of the week.\n",
        "    * Fixed configuration values.\n",
        "\n",
        "      Because tuples are **immutable**, they protect the data from accidental changes and can be used as keys in dictionaries.\n",
        "\n",
        "13. How do sets handle duplicate values in Python?\n",
        "    - Sets in Python **automatically remove duplicate values**—when you add duplicates, only one copy is kept. This ensures all elements in a set are **unique**.\n",
        "\n",
        "14.  How does the “in” keyword work differently for lists and dictionaries?\n",
        "     - `in` checks **values** in lists but **keys** in dictionaries.\n",
        "\n",
        "15. Can you modify the elements of a tuple? Explain why or why not.\n",
        "    - No, you **cannot modify elements of a tuple** because tuples are **immutable**—once created, their contents cannot be changed.\n",
        "\n",
        "16. What is a nested dictionary, and give an example of its use case?\n",
        "    - A **nested dictionary** is a dictionary that contains other dictionaries as values. It’s used to organize complex data, like storing multiple attributes for each key.\n",
        "\n",
        "17. Describe the time complexity of accessing elements in a dictionary.\n",
        "    - Accessing elements in a dictionary has an average time complexity of **O(1)** (constant time) because it uses a hash table for fast key lookup.\n",
        "\n",
        "18.  In what situations are lists preferred over dictionaries?\n",
        "     - Lists are preferred over dictionaries when:\n",
        "     * You need **ordered** collections.\n",
        "     * You want to **store items by position/index**.\n",
        "     * You have **duplicate values**.\n",
        "     * You need to **iterate over items in order** or **perform slicing**.\n",
        "\n",
        "     Basically, use lists for **simple, ordered sequences** and dictionaries for **key-based access**.\n",
        "\n",
        "19. Why are dictionaries considered unordered, and how does that affect data retrieval?\n",
        "    - Dictionaries were historically unordered, so items had no guaranteed order. This means you access data **by key**, not by position. (Since Python 3.7, insertion order is preserved but lookup is still key-based.)\n",
        "\n",
        "20. Explain the difference between a list and a dictionary in terms of data retrieval.\n",
        "    - **List** retrieves data by **index** (position), which is an integer.\n",
        "    - **Dictionary** retrieves data by **key**, which can be any hashable type (like a string).\n",
        "\n"
      ],
      "metadata": {
        "id": "nsQLPuziNah8"
      }
    },
    {
      "cell_type": "code",
      "source": [
        "# Practical Question"
      ],
      "metadata": {
        "id": "kfQLoH7LXUYZ"
      },
      "execution_count": 1,
      "outputs": []
    },
    {
      "cell_type": "code",
      "source": [
        "#1  Write a code to create a string with your name and print it\n",
        "\n",
        "name = \"Shadab Alam\"\n",
        "print(name)"
      ],
      "metadata": {
        "colab": {
          "base_uri": "https://localhost:8080/"
        },
        "id": "0Jm4bMEvXkwG",
        "outputId": "c623fd6e-0208-4701-90a6-af5586a60dbc"
      },
      "execution_count": 2,
      "outputs": [
        {
          "output_type": "stream",
          "name": "stdout",
          "text": [
            "Shadab Alam\n"
          ]
        }
      ]
    },
    {
      "cell_type": "markdown",
      "source": [],
      "metadata": {
        "id": "_nV-YfvsNKx1"
      }
    },
    {
      "cell_type": "code",
      "source": [
        "#2 Write a code to find the length of the string \"Hello World\".\n",
        "\n",
        "string = \"Hello World\"\n",
        "length = len(string)\n",
        "print(length)"
      ],
      "metadata": {
        "colab": {
          "base_uri": "https://localhost:8080/"
        },
        "id": "iEotWw8zYZnO",
        "outputId": "ef65c986-a35f-417a-cb8b-7d25a18b2c37"
      },
      "execution_count": 3,
      "outputs": [
        {
          "output_type": "stream",
          "name": "stdout",
          "text": [
            "11\n"
          ]
        }
      ]
    },
    {
      "cell_type": "code",
      "source": [
        "#3 Write a code to slice the first 3 characters from the string \"Python Programming\".\n",
        "\n",
        "text = \"Python Programming\"\n",
        "first_three = text[:3]\n",
        "print(first_three)\n"
      ],
      "metadata": {
        "colab": {
          "base_uri": "https://localhost:8080/"
        },
        "id": "0WDhdU4JZ94J",
        "outputId": "38c708d8-bd8c-472c-e616-c983d06f0412"
      },
      "execution_count": 7,
      "outputs": [
        {
          "output_type": "stream",
          "name": "stdout",
          "text": [
            "Pyt\n"
          ]
        }
      ]
    },
    {
      "cell_type": "code",
      "source": [
        "#4 Write a code to convert the string \"hello\" to uppercase.\n",
        "\n",
        "text = \"hello\"\n",
        "upper_text = text.upper()\n",
        "print(upper_text)\n"
      ],
      "metadata": {
        "colab": {
          "base_uri": "https://localhost:8080/"
        },
        "id": "30CD-yJBaL3l",
        "outputId": "b96a0c22-cb84-4e29-db87-2e00c15d8150"
      },
      "execution_count": 8,
      "outputs": [
        {
          "output_type": "stream",
          "name": "stdout",
          "text": [
            "HELLO\n"
          ]
        }
      ]
    },
    {
      "cell_type": "code",
      "source": [
        "#5  Write a code to replace the word \"apple\" with \"orange\" in the string \"I like apple\".\n",
        "\n",
        "text = \"I like apple\"\n",
        "new_text = text.replace(\"apple\", \"orange\")\n",
        "print(new_text)"
      ],
      "metadata": {
        "colab": {
          "base_uri": "https://localhost:8080/"
        },
        "id": "60ImsE2eaUur",
        "outputId": "dbbbe6cc-cae7-43a7-9c11-bdedbbe389c6"
      },
      "execution_count": 9,
      "outputs": [
        {
          "output_type": "stream",
          "name": "stdout",
          "text": [
            "I like orange\n"
          ]
        }
      ]
    },
    {
      "cell_type": "code",
      "source": [
        "#6  Write a code to create a list with numbers 1 to 5 and print it\n",
        "\n",
        "numbers = [1, 2, 3, 4, 5]\n",
        "print(numbers)"
      ],
      "metadata": {
        "colab": {
          "base_uri": "https://localhost:8080/"
        },
        "id": "siCMCBCcaofb",
        "outputId": "eef62370-4059-409a-9cd9-10cf2c7df3a0"
      },
      "execution_count": 10,
      "outputs": [
        {
          "output_type": "stream",
          "name": "stdout",
          "text": [
            "[1, 2, 3, 4, 5]\n"
          ]
        }
      ]
    },
    {
      "cell_type": "code",
      "source": [
        "#7 Write a code to append the number 10 to the list [1, 2, 3, 4].\n",
        "\n",
        "numbers = [1, 2, 3, 4]\n",
        "numbers.append(10)\n",
        "print(numbers)"
      ],
      "metadata": {
        "colab": {
          "base_uri": "https://localhost:8080/"
        },
        "id": "kDbKz5-Za4uB",
        "outputId": "cb72a0bd-6d1c-4019-8721-6e5dc8c05381"
      },
      "execution_count": 11,
      "outputs": [
        {
          "output_type": "stream",
          "name": "stdout",
          "text": [
            "[1, 2, 3, 4, 10]\n"
          ]
        }
      ]
    },
    {
      "cell_type": "code",
      "source": [
        "#8  Write a code to remove the number 3 from the list [1, 2, 3, 4, 5].\n",
        "\n",
        "numbers = [1, 2, 3, 4, 5]\n",
        "numbers.remove(3)\n",
        "print(numbers)"
      ],
      "metadata": {
        "colab": {
          "base_uri": "https://localhost:8080/"
        },
        "id": "nIOUYT8gbJ_v",
        "outputId": "c0ce53b7-d514-42b6-932d-85b72b7dd766"
      },
      "execution_count": 12,
      "outputs": [
        {
          "output_type": "stream",
          "name": "stdout",
          "text": [
            "[1, 2, 4, 5]\n"
          ]
        }
      ]
    },
    {
      "cell_type": "code",
      "source": [
        "#9 Write a code to access the second element in the list ['a', 'b', 'c', 'd'].\n",
        "\n",
        "letters = ['a', 'b', 'c', 'd']\n",
        "second_element = letters[1]\n",
        "print(second_element)"
      ],
      "metadata": {
        "colab": {
          "base_uri": "https://localhost:8080/"
        },
        "id": "08oAC4npbYjp",
        "outputId": "7674b48a-7ba7-475f-c10d-d21e4649dda4"
      },
      "execution_count": 13,
      "outputs": [
        {
          "output_type": "stream",
          "name": "stdout",
          "text": [
            "b\n"
          ]
        }
      ]
    },
    {
      "cell_type": "code",
      "source": [
        "#10 Write a code to reverse the list [10, 20, 30, 40, 50].\n",
        "\n",
        "numbers = [10, 20, 30, 40, 50]\n",
        "reversed_numbers = numbers[::-1]\n",
        "print(reversed_numbers)\n",
        "#"
      ],
      "metadata": {
        "colab": {
          "base_uri": "https://localhost:8080/"
        },
        "id": "9Kc8NiZIbeUe",
        "outputId": "ae96a73f-cc94-4ad1-c827-f00ed02382a4"
      },
      "execution_count": 14,
      "outputs": [
        {
          "output_type": "stream",
          "name": "stdout",
          "text": [
            "[50, 40, 30, 20, 10]\n"
          ]
        }
      ]
    },
    {
      "cell_type": "code",
      "source": [
        "#11 Write a code to create a tuple with the elements 100, 200, 300 and print it.\n",
        "\n",
        "numbers = (100, 200, 300)\n",
        "print(numbers)"
      ],
      "metadata": {
        "colab": {
          "base_uri": "https://localhost:8080/"
        },
        "id": "q0UVMw48blv7",
        "outputId": "e06db000-90bd-412e-cc32-71cb9b298435"
      },
      "execution_count": 15,
      "outputs": [
        {
          "output_type": "stream",
          "name": "stdout",
          "text": [
            "(100, 200, 300)\n"
          ]
        }
      ]
    },
    {
      "cell_type": "code",
      "source": [
        "#12 Write a code to access the second-to-last element of the tuple ('red', 'green', 'blue', 'yellow')\n",
        "\n",
        "colors = ('red', 'green', 'blue', 'yellow')\n",
        "second_to_last = colors[-2]\n",
        "print(second_to_last)"
      ],
      "metadata": {
        "colab": {
          "base_uri": "https://localhost:8080/"
        },
        "id": "DlOo1PpTb-Zv",
        "outputId": "9f307a4b-8545-4e79-9ce9-e2f58c17cd90"
      },
      "execution_count": 16,
      "outputs": [
        {
          "output_type": "stream",
          "name": "stdout",
          "text": [
            "blue\n"
          ]
        }
      ]
    },
    {
      "cell_type": "code",
      "source": [
        "#13  Write a code to find the minimum number in the tuple (10, 20, 5, 15).\n",
        "\n",
        "numbers = (10, 20, 5, 15)\n",
        "min_number = min(numbers)\n",
        "print(min_number)"
      ],
      "metadata": {
        "colab": {
          "base_uri": "https://localhost:8080/"
        },
        "id": "_0QRk0IBcDJl",
        "outputId": "d280135f-4851-41a4-edf6-4b2d13ef550d"
      },
      "execution_count": 17,
      "outputs": [
        {
          "output_type": "stream",
          "name": "stdout",
          "text": [
            "5\n"
          ]
        }
      ]
    },
    {
      "cell_type": "code",
      "source": [
        "#14 Write a code to find the index of the element \"cat\" in the tuple ('dog', 'cat', 'rabbit').\n",
        "\n",
        "animals = ('dog', 'cat', 'rabbit')\n",
        "cat_index = animals.index('cat')\n",
        "print(cat_index)"
      ],
      "metadata": {
        "colab": {
          "base_uri": "https://localhost:8080/"
        },
        "id": "RRHZjt2jcPWl",
        "outputId": "855a4f3a-fe5e-4920-daa4-4827abaf707d"
      },
      "execution_count": 18,
      "outputs": [
        {
          "output_type": "stream",
          "name": "stdout",
          "text": [
            "1\n"
          ]
        }
      ]
    },
    {
      "cell_type": "code",
      "source": [
        "#15 Write a code to create a tuple containing three different fruits and check if \"kiwi\" is in it.\n",
        "\n",
        "fruits = ('apple', 'banana', 'cherry')\n",
        "has_kiwi = 'kiwi' in fruits\n",
        "print(has_kiwi)"
      ],
      "metadata": {
        "colab": {
          "base_uri": "https://localhost:8080/"
        },
        "id": "XHUnW3cTcYRu",
        "outputId": "f0723d63-3f5d-4fa5-a8cf-77795582960c"
      },
      "execution_count": 19,
      "outputs": [
        {
          "output_type": "stream",
          "name": "stdout",
          "text": [
            "False\n"
          ]
        }
      ]
    },
    {
      "cell_type": "code",
      "source": [
        "#16 Write a code to create a set with the elements 'a', 'b', 'c' and print it.\n",
        "\n",
        "letters = {'a', 'b', 'c'}\n",
        "print(letters)"
      ],
      "metadata": {
        "colab": {
          "base_uri": "https://localhost:8080/"
        },
        "id": "rnF3x5MMcf0M",
        "outputId": "7c55cd1b-c4d0-480b-a413-6f64c20e68ec"
      },
      "execution_count": 20,
      "outputs": [
        {
          "output_type": "stream",
          "name": "stdout",
          "text": [
            "{'a', 'b', 'c'}\n"
          ]
        }
      ]
    },
    {
      "cell_type": "code",
      "source": [
        "#17 Write a code to clear all elements from the set {1, 2, 3, 4, 5}.\n",
        "\n",
        "numbers = {1, 2, 3, 4, 5}\n",
        "numbers.clear()\n",
        "print(numbers)"
      ],
      "metadata": {
        "colab": {
          "base_uri": "https://localhost:8080/"
        },
        "id": "MfrK_sGFcoRx",
        "outputId": "dcd89179-63e2-4b53-ad72-394c992cd27b"
      },
      "execution_count": 21,
      "outputs": [
        {
          "output_type": "stream",
          "name": "stdout",
          "text": [
            "set()\n"
          ]
        }
      ]
    },
    {
      "cell_type": "code",
      "source": [
        "#18 Write a code to remove the element 4 from the set {1, 2, 3, 4}.\n",
        "\n",
        "numbers = {1, 2, 3, 4}\n",
        "numbers.remove(4)\n",
        "print(numbers)"
      ],
      "metadata": {
        "colab": {
          "base_uri": "https://localhost:8080/"
        },
        "id": "nsCSC5BpcunS",
        "outputId": "6d186b53-8d43-4183-f627-cb5bd8e49575"
      },
      "execution_count": 22,
      "outputs": [
        {
          "output_type": "stream",
          "name": "stdout",
          "text": [
            "{1, 2, 3}\n"
          ]
        }
      ]
    },
    {
      "cell_type": "code",
      "source": [
        "#19 Write a code to find the union of two sets {1, 2, 3} and {3, 4, 5}.\n",
        "\n",
        "set1 = {1, 2, 3}\n",
        "set2 = {3, 4, 5}\n",
        "union_set = set1.union(set2)\n",
        "print(union_set)"
      ],
      "metadata": {
        "colab": {
          "base_uri": "https://localhost:8080/"
        },
        "id": "P8MqtO1bc6jA",
        "outputId": "50fb79c8-69b3-4221-877d-7cbd640f89b9"
      },
      "execution_count": 23,
      "outputs": [
        {
          "output_type": "stream",
          "name": "stdout",
          "text": [
            "{1, 2, 3, 4, 5}\n"
          ]
        }
      ]
    },
    {
      "cell_type": "code",
      "source": [
        "#20 Write a code to find the intersection of two sets {1, 2, 3} and {2, 3, 4}.\n",
        "\n",
        "set1 = {1, 2, 3}\n",
        "set2 = {2, 3, 4}\n",
        "intersection_set = set1.intersection(set2)\n",
        "print(intersection_set)"
      ],
      "metadata": {
        "colab": {
          "base_uri": "https://localhost:8080/"
        },
        "id": "THbFp9o7dDDz",
        "outputId": "563782e1-c427-44a7-9bf8-aaa03cae530e"
      },
      "execution_count": 24,
      "outputs": [
        {
          "output_type": "stream",
          "name": "stdout",
          "text": [
            "{2, 3}\n"
          ]
        }
      ]
    },
    {
      "cell_type": "code",
      "source": [
        "#21 Write a code to create a dictionary with the keys \"name\", \"age\", and \"city\", and print it\n",
        "\n",
        "person = {\"name\": \"Alice\", \"age\": 25, \"city\": \"New York\"}\n",
        "print(person)"
      ],
      "metadata": {
        "colab": {
          "base_uri": "https://localhost:8080/"
        },
        "id": "tzXcDicBdLh3",
        "outputId": "d3fcab57-230a-4f36-f8c3-d021c372eb29"
      },
      "execution_count": 25,
      "outputs": [
        {
          "output_type": "stream",
          "name": "stdout",
          "text": [
            "{'name': 'Alice', 'age': 25, 'city': 'New York'}\n"
          ]
        }
      ]
    },
    {
      "cell_type": "code",
      "source": [
        "#22 Write a code to add a new key-value pair \"country\": \"USA\" to the dictionary {'name': 'John', 'age': 25}.\n",
        "\n",
        "person = {'name': 'John', 'age': 25}\n",
        "person['country'] = 'USA'\n",
        "print(person)\n",
        "#"
      ],
      "metadata": {
        "colab": {
          "base_uri": "https://localhost:8080/"
        },
        "id": "n4xiVDmmdV7B",
        "outputId": "5d7395e6-74cc-45fc-ff22-b0b7d2e0cc9b"
      },
      "execution_count": 26,
      "outputs": [
        {
          "output_type": "stream",
          "name": "stdout",
          "text": [
            "{'name': 'John', 'age': 25, 'country': 'USA'}\n"
          ]
        }
      ]
    },
    {
      "cell_type": "code",
      "source": [
        "#23 Write a code to access the value associated with the key \"name\" in the dictionary {'name': 'Alice', 'age': 30}.\n",
        "\n",
        "person = {'name': 'Alice', 'age': 30}\n",
        "name_value = person['name']\n",
        "print(name_value)"
      ],
      "metadata": {
        "colab": {
          "base_uri": "https://localhost:8080/"
        },
        "id": "if38WTktdjiw",
        "outputId": "e5b52f17-9caf-4bfb-97aa-89386e4db346"
      },
      "execution_count": 27,
      "outputs": [
        {
          "output_type": "stream",
          "name": "stdout",
          "text": [
            "Alice\n"
          ]
        }
      ]
    },
    {
      "cell_type": "code",
      "source": [
        "#24 Write a code to remove the key \"age\" from the dictionary {'name': 'Bob', 'age': 22, 'city': 'New York'}.\n",
        "\n",
        "person = {'name': 'Bob', 'age': 22, 'city': 'New York'}\n",
        "del person['age']\n",
        "print(person)"
      ],
      "metadata": {
        "colab": {
          "base_uri": "https://localhost:8080/"
        },
        "id": "9vBLebQUdseU",
        "outputId": "6ac3df8b-05f4-44a0-f2a6-b4e34905fb33"
      },
      "execution_count": 28,
      "outputs": [
        {
          "output_type": "stream",
          "name": "stdout",
          "text": [
            "{'name': 'Bob', 'city': 'New York'}\n"
          ]
        }
      ]
    },
    {
      "cell_type": "code",
      "source": [
        "#25  Write a code to check if the key \"city\" exists in the dictionary {'name': 'Alice', 'city': 'Paris'}.\n",
        "\n",
        "person = {'name': 'Alice', 'city': 'Paris'}\n",
        "has_city_key = 'city' in person\n",
        "print(has_city_key)"
      ],
      "metadata": {
        "colab": {
          "base_uri": "https://localhost:8080/"
        },
        "id": "sWUDcuUCd3YL",
        "outputId": "2be898f9-cb0e-497a-8f64-5234b192cc8e"
      },
      "execution_count": 29,
      "outputs": [
        {
          "output_type": "stream",
          "name": "stdout",
          "text": [
            "True\n"
          ]
        }
      ]
    },
    {
      "cell_type": "code",
      "source": [
        "#26 Write a code to create a list, a tuple, and a dictionary, and print them all.\n",
        "\n",
        "# Create a list\n",
        "my_list = [1, 2, 3]\n",
        "\n",
        "# Create a tuple\n",
        "my_tuple = (4, 5, 6)\n",
        "\n",
        "# Create a dictionary\n",
        "my_dict = {\"a\": 7, \"b\": 8}\n",
        "\n",
        "# Print all\n",
        "print(\"List:\", my_list)\n",
        "print(\"Tuple:\", my_tuple)\n",
        "print(\"Dictionary:\", my_dict)\n"
      ],
      "metadata": {
        "colab": {
          "base_uri": "https://localhost:8080/"
        },
        "id": "6n8xDr0Ed-Uk",
        "outputId": "16d279e4-4abd-4165-ec02-ea6c46da1323"
      },
      "execution_count": 30,
      "outputs": [
        {
          "output_type": "stream",
          "name": "stdout",
          "text": [
            "List: [1, 2, 3]\n",
            "Tuple: (4, 5, 6)\n",
            "Dictionary: {'a': 7, 'b': 8}\n"
          ]
        }
      ]
    },
    {
      "cell_type": "code",
      "source": [
        "#27 Write a code to create a list of 5 random numbers between 1 and 100, sort it in ascending order, and print the result.(replaced)\n",
        "\n",
        "import random\n",
        "\n",
        "# Create a list of 5 random numbers\n",
        "random_numbers = [random.randint(1, 100) for _ in range(5)]\n",
        "\n",
        "# Sort the list in ascending order\n",
        "random_numbers.sort()\n",
        "\n",
        "# Print the sorted list\n",
        "print\n",
        "\n"
      ],
      "metadata": {
        "colab": {
          "base_uri": "https://localhost:8080/"
        },
        "id": "oICrtm09ehZS",
        "outputId": "3757820f-b31e-4af4-c498-31c6a6a8953d"
      },
      "execution_count": 31,
      "outputs": [
        {
          "output_type": "execute_result",
          "data": {
            "text/plain": [
              "<function print(*args, sep=' ', end='\\n', file=None, flush=False)>"
            ]
          },
          "metadata": {},
          "execution_count": 31
        }
      ]
    },
    {
      "cell_type": "code",
      "source": [
        "#28 Write a code to create a list with strings and print the element at the third index.\n",
        "\n",
        "strings = [\"apple\", \"banana\", \"cherry\", \"date\", \"elderberry\"]\n",
        "third_element = strings[2]\n",
        "print(third_element)"
      ],
      "metadata": {
        "colab": {
          "base_uri": "https://localhost:8080/"
        },
        "id": "z8REnn2Ce5k0",
        "outputId": "198d03f9-4589-499b-8058-a062f47b5c2d"
      },
      "execution_count": 32,
      "outputs": [
        {
          "output_type": "stream",
          "name": "stdout",
          "text": [
            "cherry\n"
          ]
        }
      ]
    },
    {
      "cell_type": "code",
      "source": [
        "#29  Write a code to combine two dictionaries into one and print the result.\n",
        "\n",
        "dict1 = {\"a\": 1, \"b\": 2}\n",
        "dict2 = {\"c\": 3, \"d\": 4}\n",
        "\n",
        "combined_dict = {**dict1, **dict2}\n",
        "\n",
        "print(combined_dict)"
      ],
      "metadata": {
        "colab": {
          "base_uri": "https://localhost:8080/"
        },
        "id": "i0luJjJjfCWB",
        "outputId": "67fe0b29-26fe-47e6-edda-0ce90b215f8c"
      },
      "execution_count": 33,
      "outputs": [
        {
          "output_type": "stream",
          "name": "stdout",
          "text": [
            "{'a': 1, 'b': 2, 'c': 3, 'd': 4}\n"
          ]
        }
      ]
    },
    {
      "cell_type": "code",
      "source": [
        "#30 Write a code to convert a list of strings into a set.\n",
        "\n",
        "strings = [\"apple\", \"banana\", \"cherry\", \"date\", \"elderberry\"]\n",
        "string_set = set(strings)\n",
        "print(string_set)"
      ],
      "metadata": {
        "colab": {
          "base_uri": "https://localhost:8080/"
        },
        "id": "go1oT1_EfSbh",
        "outputId": "ff0fb077-6168-438b-e115-040ee23b5150"
      },
      "execution_count": 34,
      "outputs": [
        {
          "output_type": "stream",
          "name": "stdout",
          "text": [
            "{'apple', 'elderberry', 'date', 'banana', 'cherry'}\n"
          ]
        }
      ]
    }
  ]
}